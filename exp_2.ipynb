{
  "nbformat": 4,
  "nbformat_minor": 0,
  "metadata": {
    "colab": {
      "provenance": [],
      "authorship_tag": "ABX9TyMNdWjHy0dywgpuhnVCvn5l",
      "include_colab_link": true
    },
    "kernelspec": {
      "name": "python3",
      "display_name": "Python 3"
    },
    "language_info": {
      "name": "python"
    }
  },
  "cells": [
    {
      "cell_type": "markdown",
      "metadata": {
        "id": "view-in-github",
        "colab_type": "text"
      },
      "source": [
        "<a href=\"https://colab.research.google.com/github/Purna2605/SoftwareEngLab/blob/main/exp_2.ipynb\" target=\"_parent\"><img src=\"https://colab.research.google.com/assets/colab-badge.svg\" alt=\"Open In Colab\"/></a>"
      ]
    },
    {
      "cell_type": "code",
      "source": [
        "#Hardcoding#\n",
        "def calculate_w(t, h):\n",
        "    return (0.5 * t**2 - 0.2 * h - 15) / 0.9\n",
        "\n",
        "def main():\n",
        "    print(\"\\nUsing the formula:\")\n",
        "    print(\"w = (0.5 * t^2 - 0.2 * h - 15) / 0.9\")\n",
        "    print(\"\\nEnter the temperature and humidity:\")\n",
        "    temperature = 20\n",
        "    humidity = 60\n",
        "\n",
        "    w = calculate_w(temperature, humidity)\n",
        "    print(f\"\\nFor Temperature: {temperature}°C and Humidity: {humidity}%\")\n",
        "    print(f\"Calculated w: {w}\")\n",
        "\n",
        "if __name__ == \"__main__\":\n",
        "    main()\n"
      ],
      "metadata": {
        "colab": {
          "base_uri": "https://localhost:8080/"
        },
        "id": "NoVaTgZalOIX",
        "outputId": "88228945-8c6c-48dc-88bb-4a68557e27c6"
      },
      "execution_count": 5,
      "outputs": [
        {
          "output_type": "stream",
          "name": "stdout",
          "text": [
            "\n",
            "Using the formula:\n",
            "w = (0.5 * t^2 - 0.2 * h - 15) / 0.9\n",
            "\n",
            "Enter the temperature and humidity:\n",
            "\n",
            "For Temperature: 20°C and Humidity: 60%\n",
            "Calculated w: 192.22222222222223\n"
          ]
        }
      ]
    },
    {
      "cell_type": "code",
      "source": [
        "# Keyboard\n",
        "def calculate_w(t, h):\n",
        "    return (0.5 * t**2 - 0.2 * h - 15) / 0.9\n",
        "\n",
        "def main():\n",
        "    print(\"\\nUsing the formula:\")\n",
        "    print(\"w = (0.5 * t^2 - 0.2 * h - 15) / 0.9\")\n",
        "\n",
        "    while True:\n",
        "        try:\n",
        "            temperature = float(input(\"Enter temperature in °C: \"))\n",
        "            humidity = float(input(\"Enter humidity in %: \"))\n",
        "            if 0 <= humidity <= 100:\n",
        "                break\n",
        "            else:\n",
        "                print(\"Humidity must be between 0% and 100%.\")\n",
        "        except ValueError:\n",
        "            print(\"Invalid input. Please enter a number.\")\n",
        "\n",
        "    w = calculate_w(temperature, humidity)\n",
        "    print(f\"\\nFor Temperature: {temperature}°C and Humidity: {humidity}%\")\n",
        "    print(f\"Calculated w: {w}\")\n",
        "\n",
        "if __name__ == \"__main__\":\n",
        "    main()\n"
      ],
      "metadata": {
        "colab": {
          "base_uri": "https://localhost:8080/"
        },
        "id": "_sD9jiAkmLgq",
        "outputId": "89f18525-0835-4675-a100-121609f03a76"
      },
      "execution_count": 6,
      "outputs": [
        {
          "output_type": "stream",
          "name": "stdout",
          "text": [
            "\n",
            "Using the formula:\n",
            "w = (0.5 * t^2 - 0.2 * h - 15) / 0.9\n",
            "Enter temperature in °C: 15\n",
            "Enter humidity in %: 21\n",
            "\n",
            "For Temperature: 15.0°C and Humidity: 21.0%\n",
            "Calculated w: 103.66666666666666\n"
          ]
        }
      ]
    },
    {
      "cell_type": "code",
      "source": [
        "def calculate_weather_index(t, h):\n",
        "    return (0.5 * t**2 - 0.2 * h - 15) / 0.9\n",
        "\n",
        "filename = '/content/single_input_weather.txt'\n",
        "\n",
        "try:\n",
        "    with open(filename, 'r') as file:\n",
        "        line = file.readline().strip()\n",
        "        t, h = map(float, line.split())\n",
        "        w = calculate_weather_index(t, h)\n",
        "        print(\"\\nUsing the formula:\")\n",
        "        print(\"w = (0.5 * t^2 - 0.2 * h - 15) / 0.9\")\n",
        "        print(f\"File input -> Temperature: {t}, Humidity: {h}, Weather Index: {w:.2f}\")\n",
        "except Exception as e:\n",
        "    print(f\"Error reading the file: {e}\")\n"
      ],
      "metadata": {
        "colab": {
          "base_uri": "https://localhost:8080/"
        },
        "id": "lYCQI9mMmQJe",
        "outputId": "b5993329-652b-4fce-eac9-d6f29cdffac9"
      },
      "execution_count": 8,
      "outputs": [
        {
          "output_type": "stream",
          "name": "stdout",
          "text": [
            "\n",
            "Using the formula:\n",
            "w = (0.5 * t^2 - 0.2 * h - 15) / 0.9\n",
            "File input -> Temperature: 100.0, Humidity: 80.0, Weather Index: 5521.11\n"
          ]
        }
      ]
    },
    {
      "cell_type": "code",
      "source": [
        "\n",
        "def calculate_weather_index(t, h):\n",
        "\n",
        "    return (0.5 * t**2 - 0.2 * h - 15) / 0.9\n",
        "\n",
        "\n",
        "def multiple_inputs_file_solution(filename):\n",
        "    try:\n",
        "        with open(filename, 'r') as file:\n",
        "            print(\"\\nMultiple Inputs from File:\")\n",
        "            for i, line in enumerate(file, start=1):\n",
        "                line = line.strip()\n",
        "                if not line:\n",
        "                    continue\n",
        "                t, h = map(float, line.split())\n",
        "                w = calculate_weather_index(t, h)\n",
        "                print(f\"Temperature: {t}, Humidity: {h}, Weather Index: {w:.2f}\")\n",
        "    except Exception as e:\n",
        "        print(f\"Error reading the file: {e}\")\n",
        "\n",
        "\n",
        "filename = r'/content/multiple_inputs_weather.txt'\n",
        "multiple_inputs_file_solution(filename)\n"
      ],
      "metadata": {
        "colab": {
          "base_uri": "https://localhost:8080/"
        },
        "id": "EysCMhgPm3Dr",
        "outputId": "768624cb-cf7d-4783-e21c-bea8d20d29e3"
      },
      "execution_count": 9,
      "outputs": [
        {
          "output_type": "stream",
          "name": "stdout",
          "text": [
            "\n",
            "Multiple Inputs from File:\n",
            "Temperature: 25.0, Humidity: 60.0, Weather Index: 317.22\n",
            "Temperature: 30.0, Humidity: 55.0, Weather Index: 471.11\n",
            "Temperature: 20.0, Humidity: 70.0, Weather Index: 180.00\n"
          ]
        }
      ]
    }
  ]
}
