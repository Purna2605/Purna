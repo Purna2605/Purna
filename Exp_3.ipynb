{
  "nbformat": 4,
  "nbformat_minor": 0,
  "metadata": {
    "colab": {
      "provenance": [],
      "authorship_tag": "ABX9TyNR+5nHDPqoIJaJovzg46ts",
      "include_colab_link": true
    },
    "kernelspec": {
      "name": "python3",
      "display_name": "Python 3"
    },
    "language_info": {
      "name": "python"
    }
  },
  "cells": [
    {
      "cell_type": "markdown",
      "metadata": {
        "id": "view-in-github",
        "colab_type": "text"
      },
      "source": [
        "<a href=\"https://colab.research.google.com/github/Purna2605/SoftwareEngLab/blob/main/Exp_3.ipynb\" target=\"_parent\"><img src=\"https://colab.research.google.com/assets/colab-badge.svg\" alt=\"Open In Colab\"/></a>"
      ]
    },
    {
      "cell_type": "code",
      "execution_count": null,
      "metadata": {
        "colab": {
          "base_uri": "https://localhost:8080/"
        },
        "id": "gDRTnI3RlE0A",
        "outputId": "66a45254-f1d2-42cd-d375-c1588f5410f6"
      },
      "outputs": [
        {
          "output_type": "stream",
          "name": "stdout",
          "text": [
            "Enter temperature (°C): 15\n",
            "Enter humidity (%): 20\n",
            "Enter wind speed (km/h): 1\n",
            "Predicted Weather: Cloudy\n"
          ]
        }
      ],
      "source": [
        "def predict_weather(temperature, humidity, wind_speed):\n",
        "    \"\"\"\n",
        "    Predict weather conditions based on temperature, humidity, and wind speed.\n",
        "\n",
        "    Parameters:\n",
        "    - temperature: float, in Celsius\n",
        "    - humidity: float, in percentage (0-100)\n",
        "    - wind_speed: float, in km/h\n",
        "\n",
        "    Returns:\n",
        "    - str: Predicted weather condition (Sunny, Cloudy, Rainy, Stormy)\n",
        "    \"\"\"\n",
        "\n",
        "    if wind_speed > 50:\n",
        "        return \"Stormy\"\n",
        "    elif humidity > 80:\n",
        "        return \"Rainy\"\n",
        "    elif humidity > 50 or temperature < 20:\n",
        "        return \"Cloudy\"\n",
        "    else:\n",
        "        return \"Sunny\"\n",
        "\n",
        "if __name__ == \"__main__\":\n",
        "\n",
        "    temp = float(input(\"Enter temperature (°C): \"))\n",
        "    hum = float(input(\"Enter humidity (%): \"))\n",
        "    wind = float(input(\"Enter wind speed (km/h): \"))\n",
        "\n",
        "    # Predict and display weather condition\n",
        "    weather = predict_weather(temp, hum, wind)\n",
        "    print(f\"Predicted Weather: {weather}\")\n"
      ]
    }
  ]
}